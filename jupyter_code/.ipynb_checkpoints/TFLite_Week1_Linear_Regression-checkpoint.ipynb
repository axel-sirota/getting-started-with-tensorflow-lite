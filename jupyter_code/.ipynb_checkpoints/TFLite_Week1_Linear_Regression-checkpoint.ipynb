{
 "cells": [
  {
   "cell_type": "markdown",
   "metadata": {
    "colab_type": "text",
    "id": "Za8-Nr5k11fh"
   },
   "source": [
    "##### Copyright 2018 The TensorFlow Authors."
   ]
  },
  {
   "cell_type": "code",
   "execution_count": 1,
   "metadata": {
    "cellView": "form",
    "colab": {},
    "colab_type": "code",
    "id": "Eq10uEbw0E4l"
   },
   "outputs": [],
   "source": [
    "#@title Licensed under the Apache License, Version 2.0 (the \"License\");\n",
    "# you may not use this file except in compliance with the License.\n",
    "# You may obtain a copy of the License at\n",
    "#\n",
    "# https://www.apache.org/licenses/LICENSE-2.0\n",
    "#\n",
    "# Unless required by applicable law or agreed to in writing, software\n",
    "# distributed under the License is distributed on an \"AS IS\" BASIS,\n",
    "# WITHOUT WARRANTIES OR CONDITIONS OF ANY KIND, either express or implied.\n",
    "# See the License for the specific language governing permissions and\n",
    "# limitations under the License."
   ]
  },
  {
   "cell_type": "markdown",
   "metadata": {
    "colab_type": "text",
    "id": "UysiGN3tGQHY"
   },
   "source": [
    "# Running TFLite models"
   ]
  },
  {
   "cell_type": "markdown",
   "metadata": {
    "colab_type": "text",
    "id": "2hOrvdmswy5O"
   },
   "source": [
    "<table class=\"tfo-notebook-buttons\" align=\"left\">\n",
    "  <td>\n",
    "    <a target=\"_blank\" href=\"https://colab.research.google.com/github/lmoroney/dlaicourse/blob/master/TensorFlow%20Deployment/Course%202%20-%20TensorFlow%20Lite/Week%201/Examples/TFLite_Week1_Linear_Regression.ipynb\">\n",
    "    <img src=\"https://www.tensorflow.org/images/colab_logo_32px.png\" />\n",
    "    Run in Google Colab</a>\n",
    "  </td>\n",
    "  <td>\n",
    "    <a target=\"_blank\" href=\"https://github.com/lmoroney/dlaicourse/blob/master/TensorFlow%20Deployment/Course%202%20-%20TensorFlow%20Lite/Week%201/Examples/TFLite_Week1_Linear_Regression.ipynb\">\n",
    "    <img src=\"https://www.tensorflow.org/images/GitHub-Mark-32px.png\" />\n",
    "    View source on GitHub</a>\n",
    "  </td>\n",
    "</table>"
   ]
  },
  {
   "cell_type": "markdown",
   "metadata": {
    "colab_type": "text",
    "id": "W-VhTkyTGcaQ"
   },
   "source": [
    "## Setup"
   ]
  },
  {
   "cell_type": "code",
   "execution_count": 2,
   "metadata": {
    "colab": {},
    "colab_type": "code",
    "id": "Ll4ii2J9Fea_"
   },
   "outputs": [],
   "source": [
    "try:\n",
    "    %tensorflow_version 2.x\n",
    "except:\n",
    "    pass"
   ]
  },
  {
   "cell_type": "code",
   "execution_count": 3,
   "metadata": {
    "colab": {},
    "colab_type": "code",
    "id": "dy4BcTjBFTWx"
   },
   "outputs": [
    {
     "name": "stdout",
     "output_type": "stream",
     "text": [
      "• Using TensorFlow Version: 2.1.0\n"
     ]
    }
   ],
   "source": [
    "import pathlib\n",
    "import numpy as np\n",
    "import matplotlib.pyplot as plt\n",
    "\n",
    "import tensorflow as tf\n",
    "\n",
    "print('\\u2022 Using TensorFlow Version:', tf.__version__)"
   ]
  },
  {
   "cell_type": "markdown",
   "metadata": {
    "colab_type": "text",
    "id": "ceibQLDeGhI4"
   },
   "source": [
    "## Create a Basic Model of the Form y = mx + c"
   ]
  },
  {
   "cell_type": "code",
   "execution_count": 4,
   "metadata": {
    "colab": {},
    "colab_type": "code",
    "id": "YIBCsjQNF46Z"
   },
   "outputs": [
    {
     "name": "stdout",
     "output_type": "stream",
     "text": [
      "Train on 6 samples\n",
      "Epoch 1/200\n",
      "6/6 [==============================] - 0s 23ms/sample - loss: 12.2576\n",
      "Epoch 2/200\n",
      "6/6 [==============================] - 0s 981us/sample - loss: 9.8683\n",
      "Epoch 3/200\n",
      "6/6 [==============================] - 0s 831us/sample - loss: 7.9839\n",
      "Epoch 4/200\n",
      "6/6 [==============================] - 0s 677us/sample - loss: 6.4968\n",
      "Epoch 5/200\n",
      "6/6 [==============================] - 0s 1ms/sample - loss: 5.3224\n",
      "Epoch 6/200\n",
      "6/6 [==============================] - 0s 738us/sample - loss: 4.3941\n",
      "Epoch 7/200\n",
      "6/6 [==============================] - 0s 690us/sample - loss: 3.6596\n",
      "Epoch 8/200\n",
      "6/6 [==============================] - 0s 636us/sample - loss: 3.0775\n",
      "Epoch 9/200\n",
      "6/6 [==============================] - 0s 1ms/sample - loss: 2.6154\n",
      "Epoch 10/200\n",
      "6/6 [==============================] - 0s 754us/sample - loss: 2.2479\n",
      "Epoch 11/200\n",
      "6/6 [==============================] - 0s 2ms/sample - loss: 1.9549\n",
      "Epoch 12/200\n",
      "6/6 [==============================] - 0s 751us/sample - loss: 1.7205\n",
      "Epoch 13/200\n",
      "6/6 [==============================] - 0s 737us/sample - loss: 1.5324\n",
      "Epoch 14/200\n",
      "6/6 [==============================] - 0s 802us/sample - loss: 1.3807\n",
      "Epoch 15/200\n",
      "6/6 [==============================] - 0s 1ms/sample - loss: 1.2578\n",
      "Epoch 16/200\n",
      "6/6 [==============================] - 0s 786us/sample - loss: 1.1575\n",
      "Epoch 17/200\n",
      "6/6 [==============================] - 0s 812us/sample - loss: 1.0752\n",
      "Epoch 18/200\n",
      "6/6 [==============================] - 0s 1ms/sample - loss: 1.0070\n",
      "Epoch 19/200\n",
      "6/6 [==============================] - 0s 785us/sample - loss: 0.9501\n",
      "Epoch 20/200\n",
      "6/6 [==============================] - 0s 1ms/sample - loss: 0.9021\n",
      "Epoch 21/200\n",
      "6/6 [==============================] - 0s 765us/sample - loss: 0.8611\n",
      "Epoch 22/200\n",
      "6/6 [==============================] - 0s 2ms/sample - loss: 0.8258\n",
      "Epoch 23/200\n",
      "6/6 [==============================] - 0s 800us/sample - loss: 0.7950\n",
      "Epoch 24/200\n",
      "6/6 [==============================] - 0s 1ms/sample - loss: 0.7677\n",
      "Epoch 25/200\n",
      "6/6 [==============================] - 0s 863us/sample - loss: 0.7433\n",
      "Epoch 26/200\n",
      "6/6 [==============================] - 0s 794us/sample - loss: 0.7213\n",
      "Epoch 27/200\n",
      "6/6 [==============================] - 0s 1ms/sample - loss: 0.7012\n",
      "Epoch 28/200\n",
      "6/6 [==============================] - 0s 834us/sample - loss: 0.6826\n",
      "Epoch 29/200\n",
      "6/6 [==============================] - 0s 1ms/sample - loss: 0.6653\n",
      "Epoch 30/200\n",
      "6/6 [==============================] - 0s 876us/sample - loss: 0.6490\n",
      "Epoch 31/200\n",
      "6/6 [==============================] - 0s 1ms/sample - loss: 0.6336\n",
      "Epoch 32/200\n",
      "6/6 [==============================] - 0s 988us/sample - loss: 0.6190\n",
      "Epoch 33/200\n",
      "6/6 [==============================] - 0s 2ms/sample - loss: 0.6051\n",
      "Epoch 34/200\n",
      "6/6 [==============================] - 0s 755us/sample - loss: 0.5916\n",
      "Epoch 35/200\n",
      "6/6 [==============================] - 0s 2ms/sample - loss: 0.5787\n",
      "Epoch 36/200\n",
      "6/6 [==============================] - 0s 810us/sample - loss: 0.5662\n",
      "Epoch 37/200\n",
      "6/6 [==============================] - 0s 1ms/sample - loss: 0.5541\n",
      "Epoch 38/200\n",
      "6/6 [==============================] - 0s 822us/sample - loss: 0.5423\n",
      "Epoch 39/200\n",
      "6/6 [==============================] - 0s 2ms/sample - loss: 0.5309\n",
      "Epoch 40/200\n",
      "6/6 [==============================] - 0s 723us/sample - loss: 0.5197\n",
      "Epoch 41/200\n",
      "6/6 [==============================] - 0s 1ms/sample - loss: 0.5089\n",
      "Epoch 42/200\n",
      "6/6 [==============================] - 0s 721us/sample - loss: 0.4983\n",
      "Epoch 43/200\n",
      "6/6 [==============================] - 0s 2ms/sample - loss: 0.4879\n",
      "Epoch 44/200\n",
      "6/6 [==============================] - 0s 920us/sample - loss: 0.4778\n",
      "Epoch 45/200\n",
      "6/6 [==============================] - 0s 1ms/sample - loss: 0.4679\n",
      "Epoch 46/200\n",
      "6/6 [==============================] - 0s 712us/sample - loss: 0.4583\n",
      "Epoch 47/200\n",
      "6/6 [==============================] - 0s 1ms/sample - loss: 0.4488\n",
      "Epoch 48/200\n",
      "6/6 [==============================] - 0s 802us/sample - loss: 0.4396\n",
      "Epoch 49/200\n",
      "6/6 [==============================] - 0s 1ms/sample - loss: 0.4305\n",
      "Epoch 50/200\n",
      "6/6 [==============================] - 0s 850us/sample - loss: 0.4216\n",
      "Epoch 51/200\n",
      "6/6 [==============================] - 0s 1ms/sample - loss: 0.4130\n",
      "Epoch 52/200\n",
      "6/6 [==============================] - 0s 814us/sample - loss: 0.4045\n",
      "Epoch 53/200\n",
      "6/6 [==============================] - 0s 815us/sample - loss: 0.3961\n",
      "Epoch 54/200\n",
      "6/6 [==============================] - 0s 1ms/sample - loss: 0.3880\n",
      "Epoch 55/200\n",
      "6/6 [==============================] - 0s 739us/sample - loss: 0.3800\n",
      "Epoch 56/200\n",
      "6/6 [==============================] - 0s 1ms/sample - loss: 0.3722\n",
      "Epoch 57/200\n",
      "6/6 [==============================] - 0s 1ms/sample - loss: 0.3646\n",
      "Epoch 58/200\n",
      "6/6 [==============================] - 0s 977us/sample - loss: 0.3571\n",
      "Epoch 59/200\n",
      "6/6 [==============================] - 0s 765us/sample - loss: 0.3497\n",
      "Epoch 60/200\n",
      "6/6 [==============================] - 0s 766us/sample - loss: 0.3426\n",
      "Epoch 61/200\n",
      "6/6 [==============================] - 0s 793us/sample - loss: 0.3355\n",
      "Epoch 62/200\n",
      "6/6 [==============================] - 0s 710us/sample - loss: 0.3286\n",
      "Epoch 63/200\n",
      "6/6 [==============================] - 0s 694us/sample - loss: 0.3219\n",
      "Epoch 64/200\n",
      "6/6 [==============================] - 0s 912us/sample - loss: 0.3153\n",
      "Epoch 65/200\n",
      "6/6 [==============================] - 0s 767us/sample - loss: 0.3088\n",
      "Epoch 66/200\n",
      "6/6 [==============================] - 0s 705us/sample - loss: 0.3024\n",
      "Epoch 67/200\n",
      "6/6 [==============================] - 0s 809us/sample - loss: 0.2962\n",
      "Epoch 68/200\n",
      "6/6 [==============================] - 0s 706us/sample - loss: 0.2901\n",
      "Epoch 69/200\n",
      "6/6 [==============================] - 0s 695us/sample - loss: 0.2842\n",
      "Epoch 70/200\n",
      "6/6 [==============================] - 0s 663us/sample - loss: 0.2783\n",
      "Epoch 71/200\n",
      "6/6 [==============================] - 0s 684us/sample - loss: 0.2726\n",
      "Epoch 72/200\n",
      "6/6 [==============================] - 0s 603us/sample - loss: 0.2670\n",
      "Epoch 73/200\n",
      "6/6 [==============================] - 0s 754us/sample - loss: 0.2615\n",
      "Epoch 74/200\n",
      "6/6 [==============================] - 0s 785us/sample - loss: 0.2562\n",
      "Epoch 75/200\n",
      "6/6 [==============================] - 0s 688us/sample - loss: 0.2509\n",
      "Epoch 76/200\n",
      "6/6 [==============================] - 0s 697us/sample - loss: 0.2458\n",
      "Epoch 77/200\n",
      "6/6 [==============================] - 0s 795us/sample - loss: 0.2407\n",
      "Epoch 78/200\n",
      "6/6 [==============================] - 0s 672us/sample - loss: 0.2358\n",
      "Epoch 79/200\n",
      "6/6 [==============================] - 0s 669us/sample - loss: 0.2309\n",
      "Epoch 80/200\n",
      "6/6 [==============================] - 0s 691us/sample - loss: 0.2262\n",
      "Epoch 81/200\n",
      "6/6 [==============================] - 0s 733us/sample - loss: 0.2215\n",
      "Epoch 82/200\n",
      "6/6 [==============================] - 0s 708us/sample - loss: 0.2170\n",
      "Epoch 83/200\n",
      "6/6 [==============================] - 0s 706us/sample - loss: 0.2125\n",
      "Epoch 84/200\n",
      "6/6 [==============================] - 0s 704us/sample - loss: 0.2082\n",
      "Epoch 85/200\n",
      "6/6 [==============================] - 0s 649us/sample - loss: 0.2039\n",
      "Epoch 86/200\n",
      "6/6 [==============================] - 0s 660us/sample - loss: 0.1997\n",
      "Epoch 87/200\n",
      "6/6 [==============================] - 0s 714us/sample - loss: 0.1956\n",
      "Epoch 88/200\n",
      "6/6 [==============================] - 0s 680us/sample - loss: 0.1916\n",
      "Epoch 89/200\n",
      "6/6 [==============================] - 0s 747us/sample - loss: 0.1876\n",
      "Epoch 90/200\n",
      "6/6 [==============================] - 0s 654us/sample - loss: 0.1838\n",
      "Epoch 91/200\n",
      "6/6 [==============================] - 0s 742us/sample - loss: 0.1800\n",
      "Epoch 92/200\n",
      "6/6 [==============================] - 0s 666us/sample - loss: 0.1763\n",
      "Epoch 93/200\n",
      "6/6 [==============================] - 0s 648us/sample - loss: 0.1727\n",
      "Epoch 94/200\n",
      "6/6 [==============================] - 0s 739us/sample - loss: 0.1691\n",
      "Epoch 95/200\n",
      "6/6 [==============================] - 0s 696us/sample - loss: 0.1657\n",
      "Epoch 96/200\n",
      "6/6 [==============================] - 0s 715us/sample - loss: 0.1623\n",
      "Epoch 97/200\n",
      "6/6 [==============================] - 0s 674us/sample - loss: 0.1589\n",
      "Epoch 98/200\n",
      "6/6 [==============================] - 0s 716us/sample - loss: 0.1557\n",
      "Epoch 99/200\n",
      "6/6 [==============================] - 0s 684us/sample - loss: 0.1525\n",
      "Epoch 100/200\n",
      "6/6 [==============================] - 0s 700us/sample - loss: 0.1493\n"
     ]
    },
    {
     "name": "stdout",
     "output_type": "stream",
     "text": [
      "Epoch 101/200\n",
      "6/6 [==============================] - 0s 856us/sample - loss: 0.1463\n",
      "Epoch 102/200\n",
      "6/6 [==============================] - 0s 682us/sample - loss: 0.1433\n",
      "Epoch 103/200\n",
      "6/6 [==============================] - 0s 649us/sample - loss: 0.1403\n",
      "Epoch 104/200\n",
      "6/6 [==============================] - 0s 681us/sample - loss: 0.1374\n",
      "Epoch 105/200\n",
      "6/6 [==============================] - 0s 734us/sample - loss: 0.1346\n",
      "Epoch 106/200\n",
      "6/6 [==============================] - 0s 711us/sample - loss: 0.1319\n",
      "Epoch 107/200\n",
      "6/6 [==============================] - 0s 757us/sample - loss: 0.1291\n",
      "Epoch 108/200\n",
      "6/6 [==============================] - 0s 678us/sample - loss: 0.1265\n",
      "Epoch 109/200\n",
      "6/6 [==============================] - 0s 716us/sample - loss: 0.1239\n",
      "Epoch 110/200\n",
      "6/6 [==============================] - 0s 731us/sample - loss: 0.1213\n",
      "Epoch 111/200\n",
      "6/6 [==============================] - 0s 683us/sample - loss: 0.1189\n",
      "Epoch 112/200\n",
      "6/6 [==============================] - 0s 742us/sample - loss: 0.1164\n",
      "Epoch 113/200\n",
      "6/6 [==============================] - 0s 719us/sample - loss: 0.1140\n",
      "Epoch 114/200\n",
      "6/6 [==============================] - 0s 748us/sample - loss: 0.1117\n",
      "Epoch 115/200\n",
      "6/6 [==============================] - 0s 726us/sample - loss: 0.1094\n",
      "Epoch 116/200\n",
      "6/6 [==============================] - 0s 697us/sample - loss: 0.1071\n",
      "Epoch 117/200\n",
      "6/6 [==============================] - 0s 735us/sample - loss: 0.1049\n",
      "Epoch 118/200\n",
      "6/6 [==============================] - 0s 650us/sample - loss: 0.1028\n",
      "Epoch 119/200\n",
      "6/6 [==============================] - 0s 649us/sample - loss: 0.1007\n",
      "Epoch 120/200\n",
      "6/6 [==============================] - 0s 715us/sample - loss: 0.0986\n",
      "Epoch 121/200\n",
      "6/6 [==============================] - 0s 732us/sample - loss: 0.0966\n",
      "Epoch 122/200\n",
      "6/6 [==============================] - 0s 657us/sample - loss: 0.0946\n",
      "Epoch 123/200\n",
      "6/6 [==============================] - 0s 647us/sample - loss: 0.0927\n",
      "Epoch 124/200\n",
      "6/6 [==============================] - 0s 735us/sample - loss: 0.0907\n",
      "Epoch 125/200\n",
      "6/6 [==============================] - 0s 666us/sample - loss: 0.0889\n",
      "Epoch 126/200\n",
      "6/6 [==============================] - 0s 698us/sample - loss: 0.0871\n",
      "Epoch 127/200\n",
      "6/6 [==============================] - 0s 739us/sample - loss: 0.0853\n",
      "Epoch 128/200\n",
      "6/6 [==============================] - 0s 698us/sample - loss: 0.0835\n",
      "Epoch 129/200\n",
      "6/6 [==============================] - 0s 717us/sample - loss: 0.0818\n",
      "Epoch 130/200\n",
      "6/6 [==============================] - 0s 672us/sample - loss: 0.0801\n",
      "Epoch 131/200\n",
      "6/6 [==============================] - 0s 711us/sample - loss: 0.0785\n",
      "Epoch 132/200\n",
      "6/6 [==============================] - 0s 729us/sample - loss: 0.0769\n",
      "Epoch 133/200\n",
      "6/6 [==============================] - 0s 677us/sample - loss: 0.0753\n",
      "Epoch 134/200\n",
      "6/6 [==============================] - 0s 719us/sample - loss: 0.0737\n",
      "Epoch 135/200\n",
      "6/6 [==============================] - 0s 675us/sample - loss: 0.0722\n",
      "Epoch 136/200\n",
      "6/6 [==============================] - 0s 678us/sample - loss: 0.0707\n",
      "Epoch 137/200\n",
      "6/6 [==============================] - 0s 685us/sample - loss: 0.0693\n",
      "Epoch 138/200\n",
      "6/6 [==============================] - 0s 748us/sample - loss: 0.0679\n",
      "Epoch 139/200\n",
      "6/6 [==============================] - 0s 693us/sample - loss: 0.0665\n",
      "Epoch 140/200\n",
      "6/6 [==============================] - 0s 670us/sample - loss: 0.0651\n",
      "Epoch 141/200\n",
      "6/6 [==============================] - 0s 744us/sample - loss: 0.0638\n",
      "Epoch 142/200\n",
      "6/6 [==============================] - 0s 727us/sample - loss: 0.0625\n",
      "Epoch 143/200\n",
      "6/6 [==============================] - 0s 711us/sample - loss: 0.0612\n",
      "Epoch 144/200\n",
      "6/6 [==============================] - 0s 745us/sample - loss: 0.0599\n",
      "Epoch 145/200\n",
      "6/6 [==============================] - 0s 681us/sample - loss: 0.0587\n",
      "Epoch 146/200\n",
      "6/6 [==============================] - 0s 781us/sample - loss: 0.0575\n",
      "Epoch 147/200\n",
      "6/6 [==============================] - 0s 738us/sample - loss: 0.0563\n",
      "Epoch 148/200\n",
      "6/6 [==============================] - 0s 758us/sample - loss: 0.0551\n",
      "Epoch 149/200\n",
      "6/6 [==============================] - 0s 702us/sample - loss: 0.0540\n",
      "Epoch 150/200\n",
      "6/6 [==============================] - 0s 682us/sample - loss: 0.0529\n",
      "Epoch 151/200\n",
      "6/6 [==============================] - 0s 725us/sample - loss: 0.0518\n",
      "Epoch 152/200\n",
      "6/6 [==============================] - 0s 730us/sample - loss: 0.0508\n",
      "Epoch 153/200\n",
      "6/6 [==============================] - 0s 683us/sample - loss: 0.0497\n",
      "Epoch 154/200\n",
      "6/6 [==============================] - 0s 697us/sample - loss: 0.0487\n",
      "Epoch 155/200\n",
      "6/6 [==============================] - 0s 769us/sample - loss: 0.0477\n",
      "Epoch 156/200\n",
      "6/6 [==============================] - 0s 789us/sample - loss: 0.0467\n",
      "Epoch 157/200\n",
      "6/6 [==============================] - 0s 742us/sample - loss: 0.0458\n",
      "Epoch 158/200\n",
      "6/6 [==============================] - 0s 720us/sample - loss: 0.0448\n",
      "Epoch 159/200\n",
      "6/6 [==============================] - 0s 768us/sample - loss: 0.0439\n",
      "Epoch 160/200\n",
      "6/6 [==============================] - 0s 715us/sample - loss: 0.0430\n",
      "Epoch 161/200\n",
      "6/6 [==============================] - 0s 719us/sample - loss: 0.0421\n",
      "Epoch 162/200\n",
      "6/6 [==============================] - 0s 785us/sample - loss: 0.0412\n",
      "Epoch 163/200\n",
      "6/6 [==============================] - 0s 649us/sample - loss: 0.0404\n",
      "Epoch 164/200\n",
      "6/6 [==============================] - 0s 726us/sample - loss: 0.0396\n",
      "Epoch 165/200\n",
      "6/6 [==============================] - 0s 677us/sample - loss: 0.0388\n",
      "Epoch 166/200\n",
      "6/6 [==============================] - 0s 720us/sample - loss: 0.0380\n",
      "Epoch 167/200\n",
      "6/6 [==============================] - 0s 678us/sample - loss: 0.0372\n",
      "Epoch 168/200\n",
      "6/6 [==============================] - 0s 675us/sample - loss: 0.0364\n",
      "Epoch 169/200\n",
      "6/6 [==============================] - 0s 652us/sample - loss: 0.0357\n",
      "Epoch 170/200\n",
      "6/6 [==============================] - 0s 656us/sample - loss: 0.0349\n",
      "Epoch 171/200\n",
      "6/6 [==============================] - 0s 728us/sample - loss: 0.0342\n",
      "Epoch 172/200\n",
      "6/6 [==============================] - 0s 783us/sample - loss: 0.0335\n",
      "Epoch 173/200\n",
      "6/6 [==============================] - 0s 726us/sample - loss: 0.0328\n",
      "Epoch 174/200\n",
      "6/6 [==============================] - 0s 744us/sample - loss: 0.0321\n",
      "Epoch 175/200\n",
      "6/6 [==============================] - 0s 691us/sample - loss: 0.0315\n",
      "Epoch 176/200\n",
      "6/6 [==============================] - 0s 712us/sample - loss: 0.0308\n",
      "Epoch 177/200\n",
      "6/6 [==============================] - 0s 734us/sample - loss: 0.0302\n",
      "Epoch 178/200\n",
      "6/6 [==============================] - 0s 678us/sample - loss: 0.0296\n",
      "Epoch 179/200\n",
      "6/6 [==============================] - 0s 674us/sample - loss: 0.0290\n",
      "Epoch 180/200\n",
      "6/6 [==============================] - 0s 686us/sample - loss: 0.0284\n",
      "Epoch 181/200\n",
      "6/6 [==============================] - 0s 702us/sample - loss: 0.0278\n",
      "Epoch 182/200\n",
      "6/6 [==============================] - 0s 678us/sample - loss: 0.0272\n",
      "Epoch 183/200\n",
      "6/6 [==============================] - 0s 664us/sample - loss: 0.0267\n",
      "Epoch 184/200\n",
      "6/6 [==============================] - 0s 699us/sample - loss: 0.0261\n",
      "Epoch 185/200\n",
      "6/6 [==============================] - 0s 692us/sample - loss: 0.0256\n",
      "Epoch 186/200\n",
      "6/6 [==============================] - 0s 699us/sample - loss: 0.0251\n",
      "Epoch 187/200\n",
      "6/6 [==============================] - 0s 714us/sample - loss: 0.0245\n",
      "Epoch 188/200\n",
      "6/6 [==============================] - 0s 723us/sample - loss: 0.0240\n",
      "Epoch 189/200\n",
      "6/6 [==============================] - 0s 676us/sample - loss: 0.0235\n",
      "Epoch 190/200\n",
      "6/6 [==============================] - 0s 710us/sample - loss: 0.0231\n",
      "Epoch 191/200\n",
      "6/6 [==============================] - 0s 715us/sample - loss: 0.0226\n",
      "Epoch 192/200\n",
      "6/6 [==============================] - 0s 694us/sample - loss: 0.0221\n",
      "Epoch 193/200\n",
      "6/6 [==============================] - 0s 663us/sample - loss: 0.0217\n",
      "Epoch 194/200\n",
      "6/6 [==============================] - 0s 736us/sample - loss: 0.0212\n",
      "Epoch 195/200\n",
      "6/6 [==============================] - 0s 671us/sample - loss: 0.0208\n",
      "Epoch 196/200\n",
      "6/6 [==============================] - 0s 660us/sample - loss: 0.0204\n",
      "Epoch 197/200\n",
      "6/6 [==============================] - 0s 622us/sample - loss: 0.0199\n",
      "Epoch 198/200\n",
      "6/6 [==============================] - 0s 705us/sample - loss: 0.0195\n"
     ]
    },
    {
     "name": "stdout",
     "output_type": "stream",
     "text": [
      "Epoch 199/200\n",
      "6/6 [==============================] - 0s 690us/sample - loss: 0.0191\n",
      "Epoch 200/200\n",
      "6/6 [==============================] - 0s 631us/sample - loss: 0.0187\n"
     ]
    },
    {
     "data": {
      "text/plain": [
       "<tensorflow.python.keras.callbacks.History at 0x1442a1190>"
      ]
     },
     "execution_count": 4,
     "metadata": {},
     "output_type": "execute_result"
    }
   ],
   "source": [
    "# Create a simple Keras model.\n",
    "x = [-1, 0, 1, 2, 3, 4]\n",
    "y = [-3, -1, 1, 3, 5, 7]\n",
    "\n",
    "model = tf.keras.models.Sequential([\n",
    "        tf.keras.layers.Dense(units=1, input_shape=[1])\n",
    "])\n",
    "\n",
    "model.compile(optimizer='sgd',\n",
    "              loss='mean_squared_error')\n",
    "\n",
    "model.fit(x, y, epochs=200)"
   ]
  },
  {
   "cell_type": "markdown",
   "metadata": {
    "colab_type": "text",
    "id": "EjsB-QICGt6L"
   },
   "source": [
    "## Generate a SavedModel"
   ]
  },
  {
   "cell_type": "code",
   "execution_count": 5,
   "metadata": {
    "colab": {},
    "colab_type": "code",
    "id": "a9xcbK7QHOfm"
   },
   "outputs": [
    {
     "name": "stdout",
     "output_type": "stream",
     "text": [
      "WARNING:tensorflow:From /Users/axelsirota/repos/dlaicourse/.venv/lib/python3.7/site-packages/tensorflow_core/python/ops/resource_variable_ops.py:1786: calling BaseResourceVariable.__init__ (from tensorflow.python.ops.resource_variable_ops) with constraint is deprecated and will be removed in a future version.\n",
      "Instructions for updating:\n",
      "If using Keras pass *_constraint arguments to layers.\n",
      "INFO:tensorflow:Assets written to: saved_model/1/assets\n"
     ]
    }
   ],
   "source": [
    "export_dir = 'saved_model/1'\n",
    "tf.saved_model.save(model, export_dir)"
   ]
  },
  {
   "cell_type": "markdown",
   "metadata": {
    "colab_type": "text",
    "id": "RRtsNwkiGxcO"
   },
   "source": [
    "## Convert the SavedModel to TFLite"
   ]
  },
  {
   "cell_type": "code",
   "execution_count": 6,
   "metadata": {
    "colab": {},
    "colab_type": "code",
    "id": "TtM8yKTVTpD3"
   },
   "outputs": [],
   "source": [
    "# Convert the model.\n",
    "converter = tf.lite.TFLiteConverter.from_saved_model(export_dir)\n",
    "tflite_model = converter.convert()"
   ]
  },
  {
   "cell_type": "code",
   "execution_count": 7,
   "metadata": {
    "colab": {},
    "colab_type": "code",
    "id": "4idYulcNHTdO"
   },
   "outputs": [
    {
     "data": {
      "text/plain": [
       "772"
      ]
     },
     "execution_count": 7,
     "metadata": {},
     "output_type": "execute_result"
    }
   ],
   "source": [
    "tflite_model_file = pathlib.Path('model.tflite')\n",
    "tflite_model_file.write_bytes(tflite_model)"
   ]
  },
  {
   "cell_type": "markdown",
   "metadata": {
    "colab_type": "text",
    "id": "HgGvp2yBG25Q"
   },
   "source": [
    "## Initialize the TFLite Interpreter To Try It Out"
   ]
  },
  {
   "cell_type": "code",
   "execution_count": 8,
   "metadata": {
    "colab": {},
    "colab_type": "code",
    "id": "DOt94wIWF8m7"
   },
   "outputs": [],
   "source": [
    "# Load TFLite model and allocate tensors.\n",
    "interpreter = tf.lite.Interpreter(model_content=tflite_model)\n",
    "interpreter.allocate_tensors()\n",
    "\n",
    "# Get input and output tensors.\n",
    "input_details = interpreter.get_input_details()\n",
    "output_details = interpreter.get_output_details()"
   ]
  },
  {
   "cell_type": "code",
   "execution_count": 9,
   "metadata": {
    "colab": {},
    "colab_type": "code",
    "id": "JGYkEK08F8qK"
   },
   "outputs": [],
   "source": [
    "# Test the TensorFlow Lite model on random input data.\n",
    "input_shape = input_details[0]['shape']\n",
    "inputs, outputs = [], []\n",
    "for _ in range(100):\n",
    "    input_data = np.array(np.random.random_sample(input_shape), dtype=np.float32)\n",
    "    interpreter.set_tensor(input_details[0]['index'], input_data)\n",
    "    \n",
    "    interpreter.invoke()\n",
    "    tflite_results = interpreter.get_tensor(output_details[0]['index'])\n",
    "    \n",
    "    # Test the TensorFlow model on random input data.\n",
    "    tf_results = model(tf.constant(input_data))\n",
    "    output_data = np.array(tf_results)\n",
    "    \n",
    "    inputs.append(input_data[0][0])\n",
    "    outputs.append(output_data[0][0])"
   ]
  },
  {
   "cell_type": "markdown",
   "metadata": {
    "colab_type": "text",
    "id": "t1gQGH1KWAgW"
   },
   "source": [
    "## Visualize the Model"
   ]
  },
  {
   "cell_type": "code",
   "execution_count": 10,
   "metadata": {
    "colab": {},
    "colab_type": "code",
    "id": "ccvQ1mEJVrqo"
   },
   "outputs": [
    {
     "data": {
      "image/png": "[encoded data removed]",
      "text/plain": [
       "<Figure size 432x288 with 1 Axes>"
      ]
     },
     "metadata": {
      "needs_background": "light"
     },
     "output_type": "display_data"
    }
   ],
   "source": [
    "%matplotlib inline\n",
    "\n",
    "plt.plot(inputs, outputs, 'r')\n",
    "plt.show()"
   ]
  },
  {
   "cell_type": "markdown",
   "metadata": {
    "colab_type": "text",
    "id": "WbugMH6yKvtd"
   },
   "source": [
    "## Download the TFLite Model File\n",
    "\n",
    "If you are running this notebook in a Colab, you can run the cell below to download the tflite model to your local disk. \n",
    "\n",
    "**Note**: If the file does not download when you run the cell, try running the cell a second time."
   ]
  },
  {
   "cell_type": "code",
   "execution_count": 11,
   "metadata": {
    "colab": {},
    "colab_type": "code",
    "id": "FOAIMETeJmkc"
   },
   "outputs": [],
   "source": [
    "try:\n",
    "    from google.colab import files\n",
    "    files.download(tflite_model_file)\n",
    "except:\n",
    "    pass"
   ]
  }
 ],
 "metadata": {
  "accelerator": "GPU",
  "colab": {
   "collapsed_sections": [],
   "last_runtime": {
    "build_target": "//learning/brain/python/client:colab_notebook_py3",
    "kind": "private"
   },
   "name": "TFLite_Week1_Linear_Regression.ipynb",
   "private_outputs": true,
   "provenance": [],
   "toc_visible": true
  },
  "kernelspec": {
   "display_name": "Python 3",
   "language": "python",
   "name": "python3"
  },
  "language_info": {
   "codemirror_mode": {
    "name": "ipython",
    "version": 3
   },
   "file_extension": ".py",
   "mimetype": "text/x-python",
   "name": "python",
   "nbconvert_exporter": "python",
   "pygments_lexer": "ipython3",
   "version": "3.7.5"
  }
 },
 "nbformat": 4,
 "nbformat_minor": 1
}
